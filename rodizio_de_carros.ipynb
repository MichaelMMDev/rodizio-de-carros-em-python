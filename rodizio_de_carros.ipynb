{
  "nbformat": 4,
  "nbformat_minor": 0,
  "metadata": {
    "colab": {
      "provenance": [],
      "authorship_tag": "ABX9TyMzRzgD/bTMXQwxuM6VQWPL",
      "include_colab_link": true
    },
    "kernelspec": {
      "name": "python3",
      "display_name": "Python 3"
    },
    "language_info": {
      "name": "python"
    }
  },
  "cells": [
    {
      "cell_type": "markdown",
      "metadata": {
        "id": "view-in-github",
        "colab_type": "text"
      },
      "source": [
        "<a href=\"https://colab.research.google.com/github/MichaelMMDev/rodizio-de-carros-em-python/blob/main/rodizio_de_carros.ipynb\" target=\"_parent\"><img src=\"https://colab.research.google.com/assets/colab-badge.svg\" alt=\"Open In Colab\"/></a>"
      ]
    },
    {
      "cell_type": "code",
      "execution_count": null,
      "metadata": {
        "id": "OpeknLe1zu59"
      },
      "outputs": [],
      "source": [
        "rodizio = int(input(\"Por gentileza, digite o último dígito da placa do seu carro. \"))\n",
        "\n",
        "if rodizio == 1 or rodizio == 2 :\n",
        "  print(\"Você só poderá trafegar com esse  carro dias de: Segunda-feira. \")\n",
        "\n",
        "elif rodizio == 3 or  rodizio == 4 :\n",
        "  print(\"Você só poderá trafegar com esse  carro dias de: Terça-feira. \")\n",
        "\n",
        "elif rodizio == 5 or  rodizio == 6 :\n",
        "  print(\"Você só poderá trafegar com esse  carro dias de: Quarta-feira. \")\n",
        "\n",
        "elif rodizio == 7 or  rodizio == 8 :\n",
        "  print(\"Você só poderá trafegar com esse  carro dias de: Quinta-feira. \")\n",
        "\n",
        "elif  rodizio == 9 or  rodizio == 0 :\n",
        "  print(\"Você só poderá trafegar com esse  carro dias de: Sexta-feira. \")"
      ]
    }
  ]
}